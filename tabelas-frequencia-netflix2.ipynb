{
 "cells": [
  {
   "cell_type": "code",
   "execution_count": 1,
   "metadata": {},
   "outputs": [],
   "source": [
    "# importação da base de dados\n",
    "import pandas as pd"
   ]
  },
  {
   "cell_type": "code",
   "execution_count": 2,
   "metadata": {},
   "outputs": [],
   "source": [
    "netflix = pd.read_csv('titles.csv')"
   ]
  },
  {
   "cell_type": "markdown",
   "metadata": {},
   "source": [
    "### Tabela de Frequênciaa - Método 1 - Listas"
   ]
  },
  {
   "cell_type": "code",
   "execution_count": 4,
   "metadata": {},
   "outputs": [],
   "source": [
    "# Gerar a lista de paises\n",
    "lista_paises = list(netflix['production_countries'])\n",
    "lista_paises_unicos = list(set(netflix['production_countries']))"
   ]
  },
  {
   "cell_type": "code",
   "execution_count": 6,
   "metadata": {},
   "outputs": [
    {
     "data": {
      "text/plain": [
       "[124, 103, 210, 219, 159, 1950, 266, 605]"
      ]
     },
     "execution_count": 6,
     "metadata": {},
     "output_type": "execute_result"
    }
   ],
   "source": [
    "# Fazer contagem de todos os paises\n",
    "\n",
    "freq = []\n",
    "for pais in lista_paises_unicos:\n",
    "    freq.append(lista_paises.count(pais))\n",
    "\n",
    "freq"
   ]
  },
  {
   "cell_type": "code",
   "execution_count": 7,
   "metadata": {},
   "outputs": [
    {
     "data": {
      "text/html": [
       "<div>\n",
       "<style scoped>\n",
       "    .dataframe tbody tr th:only-of-type {\n",
       "        vertical-align: middle;\n",
       "    }\n",
       "\n",
       "    .dataframe tbody tr th {\n",
       "        vertical-align: top;\n",
       "    }\n",
       "\n",
       "    .dataframe thead th {\n",
       "        text-align: right;\n",
       "    }\n",
       "</style>\n",
       "<table border=\"1\" class=\"dataframe\">\n",
       "  <thead>\n",
       "    <tr style=\"text-align: right;\">\n",
       "      <th></th>\n",
       "      <th>País</th>\n",
       "      <th>Frequência</th>\n",
       "    </tr>\n",
       "  </thead>\n",
       "  <tbody>\n",
       "    <tr>\n",
       "      <th>0</th>\n",
       "      <td>['FR']</td>\n",
       "      <td>124</td>\n",
       "    </tr>\n",
       "    <tr>\n",
       "      <th>1</th>\n",
       "      <td>['CA']</td>\n",
       "      <td>103</td>\n",
       "    </tr>\n",
       "    <tr>\n",
       "      <th>2</th>\n",
       "      <td>['KR']</td>\n",
       "      <td>210</td>\n",
       "    </tr>\n",
       "    <tr>\n",
       "      <th>3</th>\n",
       "      <td>['GB']</td>\n",
       "      <td>219</td>\n",
       "    </tr>\n",
       "    <tr>\n",
       "      <th>4</th>\n",
       "      <td>['ES']</td>\n",
       "      <td>159</td>\n",
       "    </tr>\n",
       "    <tr>\n",
       "      <th>5</th>\n",
       "      <td>['US']</td>\n",
       "      <td>1950</td>\n",
       "    </tr>\n",
       "    <tr>\n",
       "      <th>6</th>\n",
       "      <td>['JP']</td>\n",
       "      <td>266</td>\n",
       "    </tr>\n",
       "    <tr>\n",
       "      <th>7</th>\n",
       "      <td>['IN']</td>\n",
       "      <td>605</td>\n",
       "    </tr>\n",
       "  </tbody>\n",
       "</table>\n",
       "</div>"
      ],
      "text/plain": [
       "     País  Frequência\n",
       "0  ['FR']         124\n",
       "1  ['CA']         103\n",
       "2  ['KR']         210\n",
       "3  ['GB']         219\n",
       "4  ['ES']         159\n",
       "5  ['US']        1950\n",
       "6  ['JP']         266\n",
       "7  ['IN']         605"
      ]
     },
     "execution_count": 7,
     "metadata": {},
     "output_type": "execute_result"
    }
   ],
   "source": [
    "# Criar tabela com os valores\n",
    "\n",
    "tab_frequencia = {'País': lista_paises_unicos, 'Frequência': freq}\n",
    "tab_frequencia = pd.DataFrame(data=tab_frequencia)\n",
    "tab_frequencia"
   ]
  },
  {
   "cell_type": "code",
   "execution_count": 8,
   "metadata": {},
   "outputs": [
    {
     "data": {
      "text/plain": [
       "0     124\n",
       "1     227\n",
       "2     437\n",
       "3     656\n",
       "4     815\n",
       "5    2765\n",
       "6    3031\n",
       "7    3636\n",
       "Name: Frequência, dtype: int64"
      ]
     },
     "execution_count": 8,
     "metadata": {},
     "output_type": "execute_result"
    }
   ],
   "source": [
    "# Frequência Acumulada\n",
    "\n",
    "freq_acumulada = tab_frequencia['Frequência'].cumsum()\n",
    "freq_acumulada"
   ]
  },
  {
   "cell_type": "code",
   "execution_count": 9,
   "metadata": {},
   "outputs": [
    {
     "data": {
      "text/plain": [
       "0     3.410341\n",
       "1     2.832783\n",
       "2     5.775578\n",
       "3     6.023102\n",
       "4     4.372937\n",
       "5    53.630363\n",
       "6     7.315732\n",
       "7    16.639164\n",
       "Name: Frequência, dtype: float64"
      ]
     },
     "execution_count": 9,
     "metadata": {},
     "output_type": "execute_result"
    }
   ],
   "source": [
    "# Frequência Percentual\n",
    "\n",
    "freq_percentual = tab_frequencia['Frequência'] /  tab_frequencia['Frequência'].sum() * 100\n",
    "freq_percentual"
   ]
  },
  {
   "cell_type": "code",
   "execution_count": 11,
   "metadata": {},
   "outputs": [
    {
     "data": {
      "text/html": [
       "<div>\n",
       "<style scoped>\n",
       "    .dataframe tbody tr th:only-of-type {\n",
       "        vertical-align: middle;\n",
       "    }\n",
       "\n",
       "    .dataframe tbody tr th {\n",
       "        vertical-align: top;\n",
       "    }\n",
       "\n",
       "    .dataframe thead th {\n",
       "        text-align: right;\n",
       "    }\n",
       "</style>\n",
       "<table border=\"1\" class=\"dataframe\">\n",
       "  <thead>\n",
       "    <tr style=\"text-align: right;\">\n",
       "      <th></th>\n",
       "      <th>País</th>\n",
       "      <th>Frequência</th>\n",
       "      <th>freq_acum</th>\n",
       "      <th>%</th>\n",
       "    </tr>\n",
       "  </thead>\n",
       "  <tbody>\n",
       "    <tr>\n",
       "      <th>0</th>\n",
       "      <td>['FR']</td>\n",
       "      <td>124</td>\n",
       "      <td>124</td>\n",
       "      <td>3.410341</td>\n",
       "    </tr>\n",
       "    <tr>\n",
       "      <th>1</th>\n",
       "      <td>['CA']</td>\n",
       "      <td>103</td>\n",
       "      <td>227</td>\n",
       "      <td>2.832783</td>\n",
       "    </tr>\n",
       "    <tr>\n",
       "      <th>2</th>\n",
       "      <td>['KR']</td>\n",
       "      <td>210</td>\n",
       "      <td>437</td>\n",
       "      <td>5.775578</td>\n",
       "    </tr>\n",
       "    <tr>\n",
       "      <th>3</th>\n",
       "      <td>['GB']</td>\n",
       "      <td>219</td>\n",
       "      <td>656</td>\n",
       "      <td>6.023102</td>\n",
       "    </tr>\n",
       "    <tr>\n",
       "      <th>4</th>\n",
       "      <td>['ES']</td>\n",
       "      <td>159</td>\n",
       "      <td>815</td>\n",
       "      <td>4.372937</td>\n",
       "    </tr>\n",
       "    <tr>\n",
       "      <th>5</th>\n",
       "      <td>['US']</td>\n",
       "      <td>1950</td>\n",
       "      <td>2765</td>\n",
       "      <td>53.630363</td>\n",
       "    </tr>\n",
       "    <tr>\n",
       "      <th>6</th>\n",
       "      <td>['JP']</td>\n",
       "      <td>266</td>\n",
       "      <td>3031</td>\n",
       "      <td>7.315732</td>\n",
       "    </tr>\n",
       "    <tr>\n",
       "      <th>7</th>\n",
       "      <td>['IN']</td>\n",
       "      <td>605</td>\n",
       "      <td>3636</td>\n",
       "      <td>16.639164</td>\n",
       "    </tr>\n",
       "  </tbody>\n",
       "</table>\n",
       "</div>"
      ],
      "text/plain": [
       "     País  Frequência  freq_acum          %\n",
       "0  ['FR']         124        124   3.410341\n",
       "1  ['CA']         103        227   2.832783\n",
       "2  ['KR']         210        437   5.775578\n",
       "3  ['GB']         219        656   6.023102\n",
       "4  ['ES']         159        815   4.372937\n",
       "5  ['US']        1950       2765  53.630363\n",
       "6  ['JP']         266       3031   7.315732\n",
       "7  ['IN']         605       3636  16.639164"
      ]
     },
     "execution_count": 11,
     "metadata": {},
     "output_type": "execute_result"
    }
   ],
   "source": [
    "# Unir na mesma tabela\n",
    "\n",
    "tab_frequencia['freq_acum'] = freq_acumulada\n",
    "tab_frequencia['%'] = freq_percentual\n",
    "tab_frequencia"
   ]
  },
  {
   "cell_type": "markdown",
   "metadata": {},
   "source": [
    "### Tabela de Frequência  - Metodo 2 - Função Pandas"
   ]
  },
  {
   "cell_type": "code",
   "execution_count": 12,
   "metadata": {},
   "outputs": [],
   "source": [
    "# Função value_count()\n",
    "\n",
    "tab_frequencia2 = netflix['production_countries'].value_counts()"
   ]
  },
  {
   "cell_type": "code",
   "execution_count": 13,
   "metadata": {},
   "outputs": [
    {
     "data": {
      "text/html": [
       "<div>\n",
       "<style scoped>\n",
       "    .dataframe tbody tr th:only-of-type {\n",
       "        vertical-align: middle;\n",
       "    }\n",
       "\n",
       "    .dataframe tbody tr th {\n",
       "        vertical-align: top;\n",
       "    }\n",
       "\n",
       "    .dataframe thead th {\n",
       "        text-align: right;\n",
       "    }\n",
       "</style>\n",
       "<table border=\"1\" class=\"dataframe\">\n",
       "  <thead>\n",
       "    <tr style=\"text-align: right;\">\n",
       "      <th></th>\n",
       "      <th>Frequência</th>\n",
       "    </tr>\n",
       "  </thead>\n",
       "  <tbody>\n",
       "    <tr>\n",
       "      <th>['US']</th>\n",
       "      <td>1950</td>\n",
       "    </tr>\n",
       "    <tr>\n",
       "      <th>['IN']</th>\n",
       "      <td>605</td>\n",
       "    </tr>\n",
       "    <tr>\n",
       "      <th>['JP']</th>\n",
       "      <td>266</td>\n",
       "    </tr>\n",
       "    <tr>\n",
       "      <th>['GB']</th>\n",
       "      <td>219</td>\n",
       "    </tr>\n",
       "    <tr>\n",
       "      <th>['KR']</th>\n",
       "      <td>210</td>\n",
       "    </tr>\n",
       "    <tr>\n",
       "      <th>['ES']</th>\n",
       "      <td>159</td>\n",
       "    </tr>\n",
       "    <tr>\n",
       "      <th>['FR']</th>\n",
       "      <td>124</td>\n",
       "    </tr>\n",
       "    <tr>\n",
       "      <th>['CA']</th>\n",
       "      <td>103</td>\n",
       "    </tr>\n",
       "  </tbody>\n",
       "</table>\n",
       "</div>"
      ],
      "text/plain": [
       "        Frequência\n",
       "['US']        1950\n",
       "['IN']         605\n",
       "['JP']         266\n",
       "['GB']         219\n",
       "['KR']         210\n",
       "['ES']         159\n",
       "['FR']         124\n",
       "['CA']         103"
      ]
     },
     "execution_count": 13,
     "metadata": {},
     "output_type": "execute_result"
    }
   ],
   "source": [
    "# Transformar em Dataframe e nomear coluna\n",
    "\n",
    "tab_frequencia2 = pd.DataFrame(tab_frequencia2)\n",
    "tab_frequencia2.columns = ['Frequência']\n",
    "tab_frequencia2"
   ]
  },
  {
   "cell_type": "code",
   "execution_count": 14,
   "metadata": {},
   "outputs": [
    {
     "data": {
      "text/html": [
       "<div>\n",
       "<style scoped>\n",
       "    .dataframe tbody tr th:only-of-type {\n",
       "        vertical-align: middle;\n",
       "    }\n",
       "\n",
       "    .dataframe tbody tr th {\n",
       "        vertical-align: top;\n",
       "    }\n",
       "\n",
       "    .dataframe thead th {\n",
       "        text-align: right;\n",
       "    }\n",
       "</style>\n",
       "<table border=\"1\" class=\"dataframe\">\n",
       "  <thead>\n",
       "    <tr style=\"text-align: right;\">\n",
       "      <th></th>\n",
       "      <th>Frequência</th>\n",
       "      <th>%</th>\n",
       "    </tr>\n",
       "  </thead>\n",
       "  <tbody>\n",
       "    <tr>\n",
       "      <th>['US']</th>\n",
       "      <td>1950</td>\n",
       "      <td>53.630363</td>\n",
       "    </tr>\n",
       "    <tr>\n",
       "      <th>['IN']</th>\n",
       "      <td>605</td>\n",
       "      <td>16.639164</td>\n",
       "    </tr>\n",
       "    <tr>\n",
       "      <th>['JP']</th>\n",
       "      <td>266</td>\n",
       "      <td>7.315732</td>\n",
       "    </tr>\n",
       "    <tr>\n",
       "      <th>['GB']</th>\n",
       "      <td>219</td>\n",
       "      <td>6.023102</td>\n",
       "    </tr>\n",
       "    <tr>\n",
       "      <th>['KR']</th>\n",
       "      <td>210</td>\n",
       "      <td>5.775578</td>\n",
       "    </tr>\n",
       "    <tr>\n",
       "      <th>['ES']</th>\n",
       "      <td>159</td>\n",
       "      <td>4.372937</td>\n",
       "    </tr>\n",
       "    <tr>\n",
       "      <th>['FR']</th>\n",
       "      <td>124</td>\n",
       "      <td>3.410341</td>\n",
       "    </tr>\n",
       "    <tr>\n",
       "      <th>['CA']</th>\n",
       "      <td>103</td>\n",
       "      <td>2.832783</td>\n",
       "    </tr>\n",
       "  </tbody>\n",
       "</table>\n",
       "</div>"
      ],
      "text/plain": [
       "        Frequência          %\n",
       "['US']        1950  53.630363\n",
       "['IN']         605  16.639164\n",
       "['JP']         266   7.315732\n",
       "['GB']         219   6.023102\n",
       "['KR']         210   5.775578\n",
       "['ES']         159   4.372937\n",
       "['FR']         124   3.410341\n",
       "['CA']         103   2.832783"
      ]
     },
     "execution_count": 14,
     "metadata": {},
     "output_type": "execute_result"
    }
   ],
   "source": [
    "# Gerar Percentuais\n",
    "\n",
    "tab_frequencia2['%'] = netflix['production_countries'].value_counts(normalize=True)*100\n",
    "\n",
    "tab_frequencia2"
   ]
  },
  {
   "cell_type": "code",
   "execution_count": 15,
   "metadata": {},
   "outputs": [
    {
     "data": {
      "text/plain": [
       "production_countries  type \n",
       "['US']                MOVIE    33.168317\n",
       "                      SHOW     20.462046\n",
       "['IN']                MOVIE    15.456546\n",
       "['JP']                SHOW      4.565457\n",
       "['KR']                SHOW      4.537954\n",
       "['GB']                SHOW      3.520352\n",
       "['JP']                MOVIE     2.750275\n",
       "['ES']                MOVIE     2.585259\n",
       "['GB']                MOVIE     2.502750\n",
       "['FR']                MOVIE     1.952695\n",
       "['ES']                SHOW      1.787679\n",
       "['CA']                MOVIE     1.567657\n",
       "['FR']                SHOW      1.457646\n",
       "['CA']                SHOW      1.265127\n",
       "['KR']                MOVIE     1.237624\n",
       "['IN']                SHOW      1.182618\n",
       "dtype: float64"
      ]
     },
     "execution_count": 15,
     "metadata": {},
     "output_type": "execute_result"
    }
   ],
   "source": [
    "# Mais de uma coluna\n",
    "\n",
    "netflix[['production_countries', 'type']].value_counts(normalize=True, ascending=False)*100"
   ]
  },
  {
   "cell_type": "code",
   "execution_count": null,
   "metadata": {},
   "outputs": [],
   "source": []
  }
 ],
 "metadata": {
  "kernelspec": {
   "display_name": "base",
   "language": "python",
   "name": "python3"
  },
  "language_info": {
   "codemirror_mode": {
    "name": "ipython",
    "version": 3
   },
   "file_extension": ".py",
   "mimetype": "text/x-python",
   "name": "python",
   "nbconvert_exporter": "python",
   "pygments_lexer": "ipython3",
   "version": "3.10.9"
  },
  "orig_nbformat": 4
 },
 "nbformat": 4,
 "nbformat_minor": 2
}
