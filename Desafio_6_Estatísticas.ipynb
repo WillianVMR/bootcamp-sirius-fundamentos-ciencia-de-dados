{
  "cells": [
    {
      "cell_type": "markdown",
      "id": "7e4f5ae4",
      "metadata": {
        "id": "7e4f5ae4"
      },
      "source": [
        "<div>\n",
        "    <p style=\"float: right;\"><img src=\"https://media.swipepages.com/2021/2/sirius-logo-principal-tag-1-300.png\" height=\"80px\"border=\"1px\"></p>\n",
        "    \n",
        "</div>\n",
        "<h1>Nano Desafio 6 </h1>\n",
        "<h2>Pandas - estatísticas </h2>\n",
        "\n",
        "Aluno:\n",
        "\n",
        "Data:"
      ]
    },
    {
      "cell_type": "markdown",
      "id": "48c084d7",
      "metadata": {
        "id": "48c084d7"
      },
      "source": [
        "##### Introdução"
      ]
    },
    {
      "cell_type": "markdown",
      "id": "025060d1",
      "metadata": {
        "id": "025060d1"
      },
      "source": [
        "Já conhecemos o pandas e um pouco do seu poder para analisar dados! Agora vamos fazer alguns calculos estatísticos usando essa ferramenta já no ritmo de despedida e também como uma  prévia do que esta por vir. Afinal você está crescendo e sua jornada de Introdução ao Python está chegando ao fim!!!\n",
        "\n",
        "A Estatística já está batendo a porta e dando boas vindas!!"
      ]
    },
    {
      "cell_type": "markdown",
      "id": "92351feb",
      "metadata": {
        "id": "92351feb"
      },
      "source": [
        "##### Estatísticas\n",
        "Estatísticas resumo, para que servem? Adivinhe? - elas \"resumem\" muitos números!!!. Por exemplo, média, mediana, mínimo, máximo e desvio padrão são estatísticas resumidas. O cálculo de estatísticas resumidas permitem que você tenha uma noção melhor de seus dados, mesmo que você tenha milhares ou milhões!!"
      ]
    },
    {
      "cell_type": "markdown",
      "id": "564c22c9",
      "metadata": {
        "id": "564c22c9"
      },
      "source": [
        "##### O conjunto de dados\n",
        "A Walt Disney Studios já produziu mais de 600 filmes desde seu filme de estreia, Branca de Neve e os Sete Anões, em 1937. Vamos, explorar um conjunto de dados de filmes da Disney !! Esses dados foram compilados por <a href=\"https://data.world/kgarrett/disney-character-success-00-16\">Kelly Garrett</a>. Os dados contêm 579 filmes da Disney com seis características: título do filme, data de lançamento, gênero, classificação MPAA, bilheteria bruta  e bilheteria ajustada pela inflação. </p>"
      ]
    },
    {
      "cell_type": "markdown",
      "id": "af2ea7e4",
      "metadata": {
        "id": "af2ea7e4"
      },
      "source": []
    },
    {
      "cell_type": "markdown",
      "id": "51f2b192",
      "metadata": {
        "id": "51f2b192"
      },
      "source": [
        "1 -Importe o  [dataset disney_movies_total_gross.csv](https://drive.google.com/file/d/1WtNcv-0XV5j954UNDkf2GW60vZHpqpzl/view?usp=sharing) e salvar com o nome dados."
      ]
    },
    {
      "cell_type": "code",
      "execution_count": 8,
      "id": "2750f558",
      "metadata": {
        "id": "2750f558"
      },
      "outputs": [],
      "source": [
        "import pandas as pd\n",
        "# Leia o arquivo\n",
        "dados = pd.read_csv('disney_movies_total_gross.csv', parse_dates =['release_date'])"
      ]
    },
    {
      "cell_type": "markdown",
      "id": "97272379",
      "metadata": {
        "id": "97272379"
      },
      "source": []
    },
    {
      "cell_type": "code",
      "execution_count": 13,
      "id": "748b642e",
      "metadata": {
        "id": "748b642e"
      },
      "outputs": [],
      "source": [
        "# Convertendo valores de Currency para type float com regex tirando $\n",
        "dados[\"total_gross\"] = dados[\"total_gross\"].replace(\"[$,]\", \"\", regex=True).astype(float)\n",
        "dados[\"inflation_adjusted_gross\"] = dados[\"inflation_adjusted_gross\"].replace(\"[$,]\", \"\", regex=True).astype(float)"
      ]
    },
    {
      "cell_type": "markdown",
      "id": "b230e93c",
      "metadata": {
        "id": "b230e93c"
      },
      "source": [
        "2 -  Imprima as primeiras linhas desse dataset"
      ]
    },
    {
      "cell_type": "code",
      "execution_count": 12,
      "id": "59ce51cc",
      "metadata": {
        "id": "59ce51cc"
      },
      "outputs": [
        {
          "data": {
            "text/html": [
              "<div>\n",
              "<style scoped>\n",
              "    .dataframe tbody tr th:only-of-type {\n",
              "        vertical-align: middle;\n",
              "    }\n",
              "\n",
              "    .dataframe tbody tr th {\n",
              "        vertical-align: top;\n",
              "    }\n",
              "\n",
              "    .dataframe thead th {\n",
              "        text-align: right;\n",
              "    }\n",
              "</style>\n",
              "<table border=\"1\" class=\"dataframe\">\n",
              "  <thead>\n",
              "    <tr style=\"text-align: right;\">\n",
              "      <th></th>\n",
              "      <th>movie_title</th>\n",
              "      <th>release_date</th>\n",
              "      <th>genre</th>\n",
              "      <th>MPAA_rating</th>\n",
              "      <th>total_gross</th>\n",
              "      <th>inflation_adjusted_gross</th>\n",
              "    </tr>\n",
              "  </thead>\n",
              "  <tbody>\n",
              "    <tr>\n",
              "      <th>0</th>\n",
              "      <td>Snow White and the Seven Dwarfs</td>\n",
              "      <td>1937-12-21</td>\n",
              "      <td>Musical</td>\n",
              "      <td>G</td>\n",
              "      <td>184925485.0</td>\n",
              "      <td>5.228953e+09</td>\n",
              "    </tr>\n",
              "    <tr>\n",
              "      <th>1</th>\n",
              "      <td>Pinocchio</td>\n",
              "      <td>1940-02-09</td>\n",
              "      <td>Adventure</td>\n",
              "      <td>G</td>\n",
              "      <td>84300000.0</td>\n",
              "      <td>2.188229e+09</td>\n",
              "    </tr>\n",
              "    <tr>\n",
              "      <th>2</th>\n",
              "      <td>Fantasia</td>\n",
              "      <td>1940-11-13</td>\n",
              "      <td>Musical</td>\n",
              "      <td>G</td>\n",
              "      <td>83320000.0</td>\n",
              "      <td>2.187091e+09</td>\n",
              "    </tr>\n",
              "    <tr>\n",
              "      <th>3</th>\n",
              "      <td>Song of the South</td>\n",
              "      <td>1946-11-12</td>\n",
              "      <td>Adventure</td>\n",
              "      <td>G</td>\n",
              "      <td>65000000.0</td>\n",
              "      <td>1.078511e+09</td>\n",
              "    </tr>\n",
              "    <tr>\n",
              "      <th>4</th>\n",
              "      <td>Cinderella</td>\n",
              "      <td>1950-02-15</td>\n",
              "      <td>Drama</td>\n",
              "      <td>G</td>\n",
              "      <td>85000000.0</td>\n",
              "      <td>9.206087e+08</td>\n",
              "    </tr>\n",
              "  </tbody>\n",
              "</table>\n",
              "</div>"
            ],
            "text/plain": [
              "                       movie_title release_date      genre MPAA_rating  \\\n",
              "0  Snow White and the Seven Dwarfs   1937-12-21    Musical           G   \n",
              "1                        Pinocchio   1940-02-09  Adventure           G   \n",
              "2                         Fantasia   1940-11-13    Musical           G   \n",
              "3                Song of the South   1946-11-12  Adventure           G   \n",
              "4                       Cinderella   1950-02-15      Drama           G   \n",
              "\n",
              "   total_gross  inflation_adjusted_gross  \n",
              "0  184925485.0              5.228953e+09  \n",
              "1   84300000.0              2.188229e+09  \n",
              "2   83320000.0              2.187091e+09  \n",
              "3   65000000.0              1.078511e+09  \n",
              "4   85000000.0              9.206087e+08  "
            ]
          },
          "execution_count": 12,
          "metadata": {},
          "output_type": "execute_result"
        }
      ],
      "source": [
        "dados.head()"
      ]
    },
    {
      "cell_type": "markdown",
      "id": "eab3247c",
      "metadata": {
        "id": "eab3247c"
      },
      "source": [
        "Obs.: Motion Picture Association of America (MPAA) - é uma associação que tem por objetivo original garantir a viabilidade da indústria cinematográfica norte-americana. Além disso, a MPA estabeleceu diretrizes para o conteúdo de filmes que resultaram na criação do Código de Produção em 1930.\n",
        "Por exemplo, a classificação de filmes segundo essa associação é:"
      ]
    },
    {
      "cell_type": "markdown",
      "id": "b8ad1e28",
      "metadata": {
        "id": "b8ad1e28"
      },
      "source": [
        "![wikipedia](mpaa_rating.png)\n",
        "\n",
        "fonte:https://pt.wikipedia.org/wiki/Motion_Picture_Association"
      ]
    },
    {
      "cell_type": "markdown",
      "id": "d52ae9ee",
      "metadata": {
        "id": "d52ae9ee"
      },
      "source": [
        "Agora, antes de mais nada vamos renomear as colunas para ficar mais fácil o entendimento?"
      ]
    },
    {
      "cell_type": "markdown",
      "id": "e5e4a2f6",
      "metadata": {
        "id": "e5e4a2f6"
      },
      "source": [
        "['tit_do_filme','dt_lancamento','genero','classificacao_mpaa','bilheteria_bruta','bilheteria_ajustada_inflacao']"
      ]
    },
    {
      "cell_type": "markdown",
      "id": "17fce58e",
      "metadata": {
        "id": "17fce58e"
      },
      "source": [
        "3 - Veja o dataset agora:"
      ]
    },
    {
      "cell_type": "code",
      "execution_count": 14,
      "id": "4c510b9c",
      "metadata": {
        "id": "4c510b9c"
      },
      "outputs": [],
      "source": [
        "dados.columns = ['tit_do_filme','dt_lancamento','genero','classificacao_mpaa','bilheteria_bruta','bilheteria_ajustada_inflacao']"
      ]
    },
    {
      "cell_type": "code",
      "execution_count": 15,
      "id": "675a9815",
      "metadata": {},
      "outputs": [
        {
          "data": {
            "text/html": [
              "<div>\n",
              "<style scoped>\n",
              "    .dataframe tbody tr th:only-of-type {\n",
              "        vertical-align: middle;\n",
              "    }\n",
              "\n",
              "    .dataframe tbody tr th {\n",
              "        vertical-align: top;\n",
              "    }\n",
              "\n",
              "    .dataframe thead th {\n",
              "        text-align: right;\n",
              "    }\n",
              "</style>\n",
              "<table border=\"1\" class=\"dataframe\">\n",
              "  <thead>\n",
              "    <tr style=\"text-align: right;\">\n",
              "      <th></th>\n",
              "      <th>tit_do_filme</th>\n",
              "      <th>dt_lancamento</th>\n",
              "      <th>genero</th>\n",
              "      <th>classificacao_mpaa</th>\n",
              "      <th>bilheteria_bruta</th>\n",
              "      <th>bilheteria_ajustada_inflacao</th>\n",
              "    </tr>\n",
              "  </thead>\n",
              "  <tbody>\n",
              "    <tr>\n",
              "      <th>0</th>\n",
              "      <td>Snow White and the Seven Dwarfs</td>\n",
              "      <td>1937-12-21</td>\n",
              "      <td>Musical</td>\n",
              "      <td>G</td>\n",
              "      <td>184925485.0</td>\n",
              "      <td>5.228953e+09</td>\n",
              "    </tr>\n",
              "    <tr>\n",
              "      <th>1</th>\n",
              "      <td>Pinocchio</td>\n",
              "      <td>1940-02-09</td>\n",
              "      <td>Adventure</td>\n",
              "      <td>G</td>\n",
              "      <td>84300000.0</td>\n",
              "      <td>2.188229e+09</td>\n",
              "    </tr>\n",
              "    <tr>\n",
              "      <th>2</th>\n",
              "      <td>Fantasia</td>\n",
              "      <td>1940-11-13</td>\n",
              "      <td>Musical</td>\n",
              "      <td>G</td>\n",
              "      <td>83320000.0</td>\n",
              "      <td>2.187091e+09</td>\n",
              "    </tr>\n",
              "    <tr>\n",
              "      <th>3</th>\n",
              "      <td>Song of the South</td>\n",
              "      <td>1946-11-12</td>\n",
              "      <td>Adventure</td>\n",
              "      <td>G</td>\n",
              "      <td>65000000.0</td>\n",
              "      <td>1.078511e+09</td>\n",
              "    </tr>\n",
              "    <tr>\n",
              "      <th>4</th>\n",
              "      <td>Cinderella</td>\n",
              "      <td>1950-02-15</td>\n",
              "      <td>Drama</td>\n",
              "      <td>G</td>\n",
              "      <td>85000000.0</td>\n",
              "      <td>9.206087e+08</td>\n",
              "    </tr>\n",
              "    <tr>\n",
              "      <th>...</th>\n",
              "      <td>...</td>\n",
              "      <td>...</td>\n",
              "      <td>...</td>\n",
              "      <td>...</td>\n",
              "      <td>...</td>\n",
              "      <td>...</td>\n",
              "    </tr>\n",
              "    <tr>\n",
              "      <th>574</th>\n",
              "      <td>The Light Between Oceans</td>\n",
              "      <td>2016-09-02</td>\n",
              "      <td>Drama</td>\n",
              "      <td>PG-13</td>\n",
              "      <td>12545979.0</td>\n",
              "      <td>1.254598e+07</td>\n",
              "    </tr>\n",
              "    <tr>\n",
              "      <th>575</th>\n",
              "      <td>Queen of Katwe</td>\n",
              "      <td>2016-09-23</td>\n",
              "      <td>Drama</td>\n",
              "      <td>PG</td>\n",
              "      <td>8874389.0</td>\n",
              "      <td>8.874389e+06</td>\n",
              "    </tr>\n",
              "    <tr>\n",
              "      <th>576</th>\n",
              "      <td>Doctor Strange</td>\n",
              "      <td>2016-11-04</td>\n",
              "      <td>Adventure</td>\n",
              "      <td>PG-13</td>\n",
              "      <td>232532923.0</td>\n",
              "      <td>2.325329e+08</td>\n",
              "    </tr>\n",
              "    <tr>\n",
              "      <th>577</th>\n",
              "      <td>Moana</td>\n",
              "      <td>2016-11-23</td>\n",
              "      <td>Adventure</td>\n",
              "      <td>PG</td>\n",
              "      <td>246082029.0</td>\n",
              "      <td>2.460820e+08</td>\n",
              "    </tr>\n",
              "    <tr>\n",
              "      <th>578</th>\n",
              "      <td>Rogue One: A Star Wars Story</td>\n",
              "      <td>2016-12-16</td>\n",
              "      <td>Adventure</td>\n",
              "      <td>PG-13</td>\n",
              "      <td>529483936.0</td>\n",
              "      <td>5.294839e+08</td>\n",
              "    </tr>\n",
              "  </tbody>\n",
              "</table>\n",
              "<p>579 rows × 6 columns</p>\n",
              "</div>"
            ],
            "text/plain": [
              "                        tit_do_filme dt_lancamento     genero  \\\n",
              "0    Snow White and the Seven Dwarfs    1937-12-21    Musical   \n",
              "1                          Pinocchio    1940-02-09  Adventure   \n",
              "2                           Fantasia    1940-11-13    Musical   \n",
              "3                  Song of the South    1946-11-12  Adventure   \n",
              "4                         Cinderella    1950-02-15      Drama   \n",
              "..                               ...           ...        ...   \n",
              "574         The Light Between Oceans    2016-09-02      Drama   \n",
              "575                   Queen of Katwe    2016-09-23      Drama   \n",
              "576                   Doctor Strange    2016-11-04  Adventure   \n",
              "577                            Moana    2016-11-23  Adventure   \n",
              "578     Rogue One: A Star Wars Story    2016-12-16  Adventure   \n",
              "\n",
              "    classificacao_mpaa  bilheteria_bruta  bilheteria_ajustada_inflacao  \n",
              "0                    G       184925485.0                  5.228953e+09  \n",
              "1                    G        84300000.0                  2.188229e+09  \n",
              "2                    G        83320000.0                  2.187091e+09  \n",
              "3                    G        65000000.0                  1.078511e+09  \n",
              "4                    G        85000000.0                  9.206087e+08  \n",
              "..                 ...               ...                           ...  \n",
              "574              PG-13        12545979.0                  1.254598e+07  \n",
              "575                 PG         8874389.0                  8.874389e+06  \n",
              "576              PG-13       232532923.0                  2.325329e+08  \n",
              "577                 PG       246082029.0                  2.460820e+08  \n",
              "578              PG-13       529483936.0                  5.294839e+08  \n",
              "\n",
              "[579 rows x 6 columns]"
            ]
          },
          "execution_count": 15,
          "metadata": {},
          "output_type": "execute_result"
        }
      ],
      "source": [
        "dados"
      ]
    },
    {
      "cell_type": "markdown",
      "id": "39ddad3f",
      "metadata": {
        "id": "39ddad3f"
      },
      "source": []
    },
    {
      "cell_type": "markdown",
      "id": "dbcc6abc",
      "metadata": {
        "id": "dbcc6abc"
      },
      "source": [
        "4 -Imprima informações básicas sobre o DataFrame"
      ]
    },
    {
      "cell_type": "code",
      "execution_count": 16,
      "id": "2947b71b",
      "metadata": {
        "id": "2947b71b"
      },
      "outputs": [
        {
          "name": "stdout",
          "output_type": "stream",
          "text": [
            "<class 'pandas.core.frame.DataFrame'>\n",
            "RangeIndex: 579 entries, 0 to 578\n",
            "Data columns (total 6 columns):\n",
            " #   Column                        Non-Null Count  Dtype         \n",
            "---  ------                        --------------  -----         \n",
            " 0   tit_do_filme                  579 non-null    object        \n",
            " 1   dt_lancamento                 579 non-null    datetime64[ns]\n",
            " 2   genero                        562 non-null    object        \n",
            " 3   classificacao_mpaa            523 non-null    object        \n",
            " 4   bilheteria_bruta              579 non-null    float64       \n",
            " 5   bilheteria_ajustada_inflacao  579 non-null    float64       \n",
            "dtypes: datetime64[ns](1), float64(2), object(3)\n",
            "memory usage: 27.3+ KB\n"
          ]
        }
      ],
      "source": [
        "dados.info()"
      ]
    },
    {
      "cell_type": "markdown",
      "id": "99cf10a8",
      "metadata": {
        "id": "99cf10a8"
      },
      "source": [
        "5 - Calcule a média da bilheteria ajustada"
      ]
    },
    {
      "cell_type": "code",
      "execution_count": 18,
      "id": "911d11c6",
      "metadata": {
        "id": "911d11c6"
      },
      "outputs": [
        {
          "data": {
            "text/plain": [
              "118762523.31"
            ]
          },
          "execution_count": 18,
          "metadata": {},
          "output_type": "execute_result"
        }
      ],
      "source": [
        "dados['bilheteria_ajustada_inflacao'].mean().round(2)"
      ]
    },
    {
      "cell_type": "markdown",
      "id": "80f0ce0c",
      "metadata": {
        "id": "80f0ce0c"
      },
      "source": [
        "6 - Calcule a mediana da bilheterias ajustada"
      ]
    },
    {
      "cell_type": "code",
      "execution_count": 20,
      "id": "bdf6342f",
      "metadata": {
        "id": "bdf6342f"
      },
      "outputs": [
        {
          "data": {
            "text/plain": [
              "55159783.0"
            ]
          },
          "execution_count": 20,
          "metadata": {},
          "output_type": "execute_result"
        }
      ],
      "source": [
        "dados['bilheteria_ajustada_inflacao'].median()"
      ]
    },
    {
      "cell_type": "markdown",
      "id": "1ddca842",
      "metadata": {
        "id": "1ddca842"
      },
      "source": [
        "7 - Encontre as datas máximas e minimas de lançamentos de filmes nesse dataset"
      ]
    },
    {
      "cell_type": "code",
      "execution_count": 21,
      "id": "951ebec7",
      "metadata": {
        "id": "951ebec7"
      },
      "outputs": [
        {
          "name": "stdout",
          "output_type": "stream",
          "text": [
            "2016-12-16 00:00:00\n",
            "1937-12-21 00:00:00\n"
          ]
        }
      ],
      "source": [
        "print(dados['dt_lancamento'].max())\n",
        "print(dados['dt_lancamento'].min())"
      ]
    },
    {
      "cell_type": "markdown",
      "id": "c2c74ae8",
      "metadata": {
        "id": "c2c74ae8"
      },
      "source": [
        "8 - Qual filme tem maior bilheteria_ajustada_inflacao ?"
      ]
    },
    {
      "cell_type": "code",
      "execution_count": 22,
      "id": "840584dd",
      "metadata": {
        "id": "840584dd"
      },
      "outputs": [
        {
          "data": {
            "text/html": [
              "<div>\n",
              "<style scoped>\n",
              "    .dataframe tbody tr th:only-of-type {\n",
              "        vertical-align: middle;\n",
              "    }\n",
              "\n",
              "    .dataframe tbody tr th {\n",
              "        vertical-align: top;\n",
              "    }\n",
              "\n",
              "    .dataframe thead th {\n",
              "        text-align: right;\n",
              "    }\n",
              "</style>\n",
              "<table border=\"1\" class=\"dataframe\">\n",
              "  <thead>\n",
              "    <tr style=\"text-align: right;\">\n",
              "      <th></th>\n",
              "      <th>tit_do_filme</th>\n",
              "      <th>dt_lancamento</th>\n",
              "      <th>genero</th>\n",
              "      <th>classificacao_mpaa</th>\n",
              "      <th>bilheteria_bruta</th>\n",
              "      <th>bilheteria_ajustada_inflacao</th>\n",
              "    </tr>\n",
              "  </thead>\n",
              "  <tbody>\n",
              "    <tr>\n",
              "      <th>0</th>\n",
              "      <td>Snow White and the Seven Dwarfs</td>\n",
              "      <td>1937-12-21</td>\n",
              "      <td>Musical</td>\n",
              "      <td>G</td>\n",
              "      <td>184925485.0</td>\n",
              "      <td>5.228953e+09</td>\n",
              "    </tr>\n",
              "  </tbody>\n",
              "</table>\n",
              "</div>"
            ],
            "text/plain": [
              "                      tit_do_filme dt_lancamento   genero classificacao_mpaa  \\\n",
              "0  Snow White and the Seven Dwarfs    1937-12-21  Musical                  G   \n",
              "\n",
              "   bilheteria_bruta  bilheteria_ajustada_inflacao  \n",
              "0       184925485.0                  5.228953e+09  "
            ]
          },
          "execution_count": 22,
          "metadata": {},
          "output_type": "execute_result"
        }
      ],
      "source": [
        "dados[dados['bilheteria_ajustada_inflacao'] == dados['bilheteria_ajustada_inflacao'].max()]"
      ]
    },
    {
      "cell_type": "markdown",
      "id": "e60ba8ea",
      "metadata": {
        "id": "e60ba8ea"
      },
      "source": []
    },
    {
      "cell_type": "code",
      "execution_count": null,
      "id": "d90a31bc",
      "metadata": {
        "id": "d90a31bc"
      },
      "outputs": [],
      "source": []
    },
    {
      "cell_type": "markdown",
      "id": "4eb6a2c1",
      "metadata": {
        "id": "4eb6a2c1"
      },
      "source": [
        "9 - Ordene os dados por dt_lancamento e chame de data_ordenada"
      ]
    },
    {
      "cell_type": "code",
      "execution_count": 23,
      "id": "9c8ae3bf",
      "metadata": {
        "id": "9c8ae3bf"
      },
      "outputs": [
        {
          "data": {
            "text/html": [
              "<div>\n",
              "<style scoped>\n",
              "    .dataframe tbody tr th:only-of-type {\n",
              "        vertical-align: middle;\n",
              "    }\n",
              "\n",
              "    .dataframe tbody tr th {\n",
              "        vertical-align: top;\n",
              "    }\n",
              "\n",
              "    .dataframe thead th {\n",
              "        text-align: right;\n",
              "    }\n",
              "</style>\n",
              "<table border=\"1\" class=\"dataframe\">\n",
              "  <thead>\n",
              "    <tr style=\"text-align: right;\">\n",
              "      <th></th>\n",
              "      <th>tit_do_filme</th>\n",
              "      <th>dt_lancamento</th>\n",
              "      <th>genero</th>\n",
              "      <th>classificacao_mpaa</th>\n",
              "      <th>bilheteria_bruta</th>\n",
              "      <th>bilheteria_ajustada_inflacao</th>\n",
              "    </tr>\n",
              "  </thead>\n",
              "  <tbody>\n",
              "    <tr>\n",
              "      <th>0</th>\n",
              "      <td>Snow White and the Seven Dwarfs</td>\n",
              "      <td>1937-12-21</td>\n",
              "      <td>Musical</td>\n",
              "      <td>G</td>\n",
              "      <td>184925485.0</td>\n",
              "      <td>5.228953e+09</td>\n",
              "    </tr>\n",
              "    <tr>\n",
              "      <th>1</th>\n",
              "      <td>Pinocchio</td>\n",
              "      <td>1940-02-09</td>\n",
              "      <td>Adventure</td>\n",
              "      <td>G</td>\n",
              "      <td>84300000.0</td>\n",
              "      <td>2.188229e+09</td>\n",
              "    </tr>\n",
              "    <tr>\n",
              "      <th>2</th>\n",
              "      <td>Fantasia</td>\n",
              "      <td>1940-11-13</td>\n",
              "      <td>Musical</td>\n",
              "      <td>G</td>\n",
              "      <td>83320000.0</td>\n",
              "      <td>2.187091e+09</td>\n",
              "    </tr>\n",
              "    <tr>\n",
              "      <th>3</th>\n",
              "      <td>Song of the South</td>\n",
              "      <td>1946-11-12</td>\n",
              "      <td>Adventure</td>\n",
              "      <td>G</td>\n",
              "      <td>65000000.0</td>\n",
              "      <td>1.078511e+09</td>\n",
              "    </tr>\n",
              "    <tr>\n",
              "      <th>4</th>\n",
              "      <td>Cinderella</td>\n",
              "      <td>1950-02-15</td>\n",
              "      <td>Drama</td>\n",
              "      <td>G</td>\n",
              "      <td>85000000.0</td>\n",
              "      <td>9.206087e+08</td>\n",
              "    </tr>\n",
              "    <tr>\n",
              "      <th>...</th>\n",
              "      <td>...</td>\n",
              "      <td>...</td>\n",
              "      <td>...</td>\n",
              "      <td>...</td>\n",
              "      <td>...</td>\n",
              "      <td>...</td>\n",
              "    </tr>\n",
              "    <tr>\n",
              "      <th>574</th>\n",
              "      <td>The Light Between Oceans</td>\n",
              "      <td>2016-09-02</td>\n",
              "      <td>Drama</td>\n",
              "      <td>PG-13</td>\n",
              "      <td>12545979.0</td>\n",
              "      <td>1.254598e+07</td>\n",
              "    </tr>\n",
              "    <tr>\n",
              "      <th>575</th>\n",
              "      <td>Queen of Katwe</td>\n",
              "      <td>2016-09-23</td>\n",
              "      <td>Drama</td>\n",
              "      <td>PG</td>\n",
              "      <td>8874389.0</td>\n",
              "      <td>8.874389e+06</td>\n",
              "    </tr>\n",
              "    <tr>\n",
              "      <th>576</th>\n",
              "      <td>Doctor Strange</td>\n",
              "      <td>2016-11-04</td>\n",
              "      <td>Adventure</td>\n",
              "      <td>PG-13</td>\n",
              "      <td>232532923.0</td>\n",
              "      <td>2.325329e+08</td>\n",
              "    </tr>\n",
              "    <tr>\n",
              "      <th>577</th>\n",
              "      <td>Moana</td>\n",
              "      <td>2016-11-23</td>\n",
              "      <td>Adventure</td>\n",
              "      <td>PG</td>\n",
              "      <td>246082029.0</td>\n",
              "      <td>2.460820e+08</td>\n",
              "    </tr>\n",
              "    <tr>\n",
              "      <th>578</th>\n",
              "      <td>Rogue One: A Star Wars Story</td>\n",
              "      <td>2016-12-16</td>\n",
              "      <td>Adventure</td>\n",
              "      <td>PG-13</td>\n",
              "      <td>529483936.0</td>\n",
              "      <td>5.294839e+08</td>\n",
              "    </tr>\n",
              "  </tbody>\n",
              "</table>\n",
              "<p>579 rows × 6 columns</p>\n",
              "</div>"
            ],
            "text/plain": [
              "                        tit_do_filme dt_lancamento     genero  \\\n",
              "0    Snow White and the Seven Dwarfs    1937-12-21    Musical   \n",
              "1                          Pinocchio    1940-02-09  Adventure   \n",
              "2                           Fantasia    1940-11-13    Musical   \n",
              "3                  Song of the South    1946-11-12  Adventure   \n",
              "4                         Cinderella    1950-02-15      Drama   \n",
              "..                               ...           ...        ...   \n",
              "574         The Light Between Oceans    2016-09-02      Drama   \n",
              "575                   Queen of Katwe    2016-09-23      Drama   \n",
              "576                   Doctor Strange    2016-11-04  Adventure   \n",
              "577                            Moana    2016-11-23  Adventure   \n",
              "578     Rogue One: A Star Wars Story    2016-12-16  Adventure   \n",
              "\n",
              "    classificacao_mpaa  bilheteria_bruta  bilheteria_ajustada_inflacao  \n",
              "0                    G       184925485.0                  5.228953e+09  \n",
              "1                    G        84300000.0                  2.188229e+09  \n",
              "2                    G        83320000.0                  2.187091e+09  \n",
              "3                    G        65000000.0                  1.078511e+09  \n",
              "4                    G        85000000.0                  9.206087e+08  \n",
              "..                 ...               ...                           ...  \n",
              "574              PG-13        12545979.0                  1.254598e+07  \n",
              "575                 PG         8874389.0                  8.874389e+06  \n",
              "576              PG-13       232532923.0                  2.325329e+08  \n",
              "577                 PG       246082029.0                  2.460820e+08  \n",
              "578              PG-13       529483936.0                  5.294839e+08  \n",
              "\n",
              "[579 rows x 6 columns]"
            ]
          },
          "execution_count": 23,
          "metadata": {},
          "output_type": "execute_result"
        }
      ],
      "source": [
        "data_ordenada = dados.sort_values('dt_lancamento', ascending=True)\n",
        "data_ordenada"
      ]
    },
    {
      "cell_type": "markdown",
      "id": "83cdf73f",
      "metadata": {
        "id": "83cdf73f"
      },
      "source": [
        "10- Obtenha a soma cumulativa da bilheteria_ajustada_inflacao,adicione ao dataset com o nome de bilheteria_milionaria"
      ]
    },
    {
      "cell_type": "code",
      "execution_count": 24,
      "id": "689b7837",
      "metadata": {
        "id": "689b7837"
      },
      "outputs": [],
      "source": [
        "dados['bilheteria_milhonaria'] = dados['bilheteria_ajustada_inflacao'].cumsum()"
      ]
    },
    {
      "cell_type": "markdown",
      "id": "e0c7ffc8",
      "metadata": {
        "id": "e0c7ffc8"
      },
      "source": [
        "11 - Veja a coluna que você criou"
      ]
    },
    {
      "cell_type": "code",
      "execution_count": 25,
      "id": "533171d5",
      "metadata": {
        "id": "533171d5"
      },
      "outputs": [
        {
          "data": {
            "text/html": [
              "<div>\n",
              "<style scoped>\n",
              "    .dataframe tbody tr th:only-of-type {\n",
              "        vertical-align: middle;\n",
              "    }\n",
              "\n",
              "    .dataframe tbody tr th {\n",
              "        vertical-align: top;\n",
              "    }\n",
              "\n",
              "    .dataframe thead th {\n",
              "        text-align: right;\n",
              "    }\n",
              "</style>\n",
              "<table border=\"1\" class=\"dataframe\">\n",
              "  <thead>\n",
              "    <tr style=\"text-align: right;\">\n",
              "      <th></th>\n",
              "      <th>tit_do_filme</th>\n",
              "      <th>dt_lancamento</th>\n",
              "      <th>genero</th>\n",
              "      <th>classificacao_mpaa</th>\n",
              "      <th>bilheteria_bruta</th>\n",
              "      <th>bilheteria_ajustada_inflacao</th>\n",
              "      <th>bilheteria_milhonaria</th>\n",
              "    </tr>\n",
              "  </thead>\n",
              "  <tbody>\n",
              "    <tr>\n",
              "      <th>0</th>\n",
              "      <td>Snow White and the Seven Dwarfs</td>\n",
              "      <td>1937-12-21</td>\n",
              "      <td>Musical</td>\n",
              "      <td>G</td>\n",
              "      <td>184925485.0</td>\n",
              "      <td>5.228953e+09</td>\n",
              "      <td>5.228953e+09</td>\n",
              "    </tr>\n",
              "    <tr>\n",
              "      <th>1</th>\n",
              "      <td>Pinocchio</td>\n",
              "      <td>1940-02-09</td>\n",
              "      <td>Adventure</td>\n",
              "      <td>G</td>\n",
              "      <td>84300000.0</td>\n",
              "      <td>2.188229e+09</td>\n",
              "      <td>7.417182e+09</td>\n",
              "    </tr>\n",
              "    <tr>\n",
              "      <th>2</th>\n",
              "      <td>Fantasia</td>\n",
              "      <td>1940-11-13</td>\n",
              "      <td>Musical</td>\n",
              "      <td>G</td>\n",
              "      <td>83320000.0</td>\n",
              "      <td>2.187091e+09</td>\n",
              "      <td>9.604273e+09</td>\n",
              "    </tr>\n",
              "    <tr>\n",
              "      <th>3</th>\n",
              "      <td>Song of the South</td>\n",
              "      <td>1946-11-12</td>\n",
              "      <td>Adventure</td>\n",
              "      <td>G</td>\n",
              "      <td>65000000.0</td>\n",
              "      <td>1.078511e+09</td>\n",
              "      <td>1.068278e+10</td>\n",
              "    </tr>\n",
              "    <tr>\n",
              "      <th>4</th>\n",
              "      <td>Cinderella</td>\n",
              "      <td>1950-02-15</td>\n",
              "      <td>Drama</td>\n",
              "      <td>G</td>\n",
              "      <td>85000000.0</td>\n",
              "      <td>9.206087e+08</td>\n",
              "      <td>1.160339e+10</td>\n",
              "    </tr>\n",
              "  </tbody>\n",
              "</table>\n",
              "</div>"
            ],
            "text/plain": [
              "                      tit_do_filme dt_lancamento     genero  \\\n",
              "0  Snow White and the Seven Dwarfs    1937-12-21    Musical   \n",
              "1                        Pinocchio    1940-02-09  Adventure   \n",
              "2                         Fantasia    1940-11-13    Musical   \n",
              "3                Song of the South    1946-11-12  Adventure   \n",
              "4                       Cinderella    1950-02-15      Drama   \n",
              "\n",
              "  classificacao_mpaa  bilheteria_bruta  bilheteria_ajustada_inflacao  \\\n",
              "0                  G       184925485.0                  5.228953e+09   \n",
              "1                  G        84300000.0                  2.188229e+09   \n",
              "2                  G        83320000.0                  2.187091e+09   \n",
              "3                  G        65000000.0                  1.078511e+09   \n",
              "4                  G        85000000.0                  9.206087e+08   \n",
              "\n",
              "   bilheteria_milhonaria  \n",
              "0           5.228953e+09  \n",
              "1           7.417182e+09  \n",
              "2           9.604273e+09  \n",
              "3           1.068278e+10  \n",
              "4           1.160339e+10  "
            ]
          },
          "execution_count": 25,
          "metadata": {},
          "output_type": "execute_result"
        }
      ],
      "source": [
        "dados.head()"
      ]
    },
    {
      "cell_type": "markdown",
      "id": "875fb027",
      "metadata": {
        "id": "875fb027"
      },
      "source": [
        "12 - Selecione os filmes de aventura e atribua a uma variável chamada filmes_aventura"
      ]
    },
    {
      "cell_type": "code",
      "execution_count": 26,
      "id": "38bbaae5",
      "metadata": {
        "id": "38bbaae5"
      },
      "outputs": [],
      "source": [
        "filmes_aventura = dados[dados['genero']=='Adventure']"
      ]
    },
    {
      "cell_type": "markdown",
      "id": "8816a9c3",
      "metadata": {
        "id": "8816a9c3"
      },
      "source": [
        "13 - Veja as primeiras linha desse novo dataset:"
      ]
    },
    {
      "cell_type": "code",
      "execution_count": 27,
      "id": "719759d1",
      "metadata": {
        "id": "719759d1"
      },
      "outputs": [
        {
          "data": {
            "text/html": [
              "<div>\n",
              "<style scoped>\n",
              "    .dataframe tbody tr th:only-of-type {\n",
              "        vertical-align: middle;\n",
              "    }\n",
              "\n",
              "    .dataframe tbody tr th {\n",
              "        vertical-align: top;\n",
              "    }\n",
              "\n",
              "    .dataframe thead th {\n",
              "        text-align: right;\n",
              "    }\n",
              "</style>\n",
              "<table border=\"1\" class=\"dataframe\">\n",
              "  <thead>\n",
              "    <tr style=\"text-align: right;\">\n",
              "      <th></th>\n",
              "      <th>tit_do_filme</th>\n",
              "      <th>dt_lancamento</th>\n",
              "      <th>genero</th>\n",
              "      <th>classificacao_mpaa</th>\n",
              "      <th>bilheteria_bruta</th>\n",
              "      <th>bilheteria_ajustada_inflacao</th>\n",
              "      <th>bilheteria_milhonaria</th>\n",
              "    </tr>\n",
              "  </thead>\n",
              "  <tbody>\n",
              "    <tr>\n",
              "      <th>1</th>\n",
              "      <td>Pinocchio</td>\n",
              "      <td>1940-02-09</td>\n",
              "      <td>Adventure</td>\n",
              "      <td>G</td>\n",
              "      <td>84300000.0</td>\n",
              "      <td>2.188229e+09</td>\n",
              "      <td>7.417182e+09</td>\n",
              "    </tr>\n",
              "    <tr>\n",
              "      <th>3</th>\n",
              "      <td>Song of the South</td>\n",
              "      <td>1946-11-12</td>\n",
              "      <td>Adventure</td>\n",
              "      <td>G</td>\n",
              "      <td>65000000.0</td>\n",
              "      <td>1.078511e+09</td>\n",
              "      <td>1.068278e+10</td>\n",
              "    </tr>\n",
              "    <tr>\n",
              "      <th>5</th>\n",
              "      <td>20,000 Leagues Under the Sea</td>\n",
              "      <td>1954-12-23</td>\n",
              "      <td>Adventure</td>\n",
              "      <td>NaN</td>\n",
              "      <td>28200000.0</td>\n",
              "      <td>5.282800e+08</td>\n",
              "      <td>1.213167e+10</td>\n",
              "    </tr>\n",
              "    <tr>\n",
              "      <th>12</th>\n",
              "      <td>The Sword in the Stone</td>\n",
              "      <td>1963-12-25</td>\n",
              "      <td>Adventure</td>\n",
              "      <td>NaN</td>\n",
              "      <td>22182353.0</td>\n",
              "      <td>1.538708e+08</td>\n",
              "      <td>1.545047e+10</td>\n",
              "    </tr>\n",
              "    <tr>\n",
              "      <th>21</th>\n",
              "      <td>The Rescuers</td>\n",
              "      <td>1977-06-22</td>\n",
              "      <td>Adventure</td>\n",
              "      <td>NaN</td>\n",
              "      <td>48775599.0</td>\n",
              "      <td>1.597439e+08</td>\n",
              "      <td>1.721542e+10</td>\n",
              "    </tr>\n",
              "  </tbody>\n",
              "</table>\n",
              "</div>"
            ],
            "text/plain": [
              "                    tit_do_filme dt_lancamento     genero classificacao_mpaa  \\\n",
              "1                      Pinocchio    1940-02-09  Adventure                  G   \n",
              "3              Song of the South    1946-11-12  Adventure                  G   \n",
              "5   20,000 Leagues Under the Sea    1954-12-23  Adventure                NaN   \n",
              "12        The Sword in the Stone    1963-12-25  Adventure                NaN   \n",
              "21                  The Rescuers    1977-06-22  Adventure                NaN   \n",
              "\n",
              "    bilheteria_bruta  bilheteria_ajustada_inflacao  bilheteria_milhonaria  \n",
              "1         84300000.0                  2.188229e+09           7.417182e+09  \n",
              "3         65000000.0                  1.078511e+09           1.068278e+10  \n",
              "5         28200000.0                  5.282800e+08           1.213167e+10  \n",
              "12        22182353.0                  1.538708e+08           1.545047e+10  \n",
              "21        48775599.0                  1.597439e+08           1.721542e+10  "
            ]
          },
          "execution_count": 27,
          "metadata": {},
          "output_type": "execute_result"
        }
      ],
      "source": [
        "filmes_aventura.head()"
      ]
    },
    {
      "cell_type": "markdown",
      "id": "58b724d2",
      "metadata": {
        "id": "58b724d2"
      },
      "source": [
        "14 - Conte o número de filmes por genero e ordene"
      ]
    },
    {
      "cell_type": "code",
      "execution_count": 28,
      "id": "9f35f2dd",
      "metadata": {
        "id": "9f35f2dd"
      },
      "outputs": [
        {
          "data": {
            "text/plain": [
              "Comedy                 182\n",
              "Adventure              129\n",
              "Drama                  114\n",
              "Action                  40\n",
              "Thriller/Suspense       24\n",
              "Romantic Comedy         23\n",
              "Musical                 16\n",
              "Documentary             16\n",
              "Western                  7\n",
              "Horror                   6\n",
              "Black Comedy             3\n",
              "Concert/Performance      2\n",
              "Name: genero, dtype: int64"
            ]
          },
          "execution_count": 28,
          "metadata": {},
          "output_type": "execute_result"
        }
      ],
      "source": [
        "acumulativo_genero = dados['genero'].value_counts(sort=True)\n",
        "acumulativo_genero"
      ]
    },
    {
      "cell_type": "markdown",
      "id": "5acb96d9",
      "metadata": {
        "id": "5acb96d9"
      },
      "source": [
        "15 - Calcule agora a proporção de filmes por genero e ordene"
      ]
    },
    {
      "cell_type": "code",
      "execution_count": 30,
      "id": "934f5164",
      "metadata": {
        "id": "934f5164"
      },
      "outputs": [
        {
          "data": {
            "text/plain": [
              "Comedy                 32.384342\n",
              "Adventure              22.953737\n",
              "Drama                  20.284698\n",
              "Action                  7.117438\n",
              "Thriller/Suspense       4.270463\n",
              "Romantic Comedy         4.092527\n",
              "Musical                 2.846975\n",
              "Documentary             2.846975\n",
              "Western                 1.245552\n",
              "Horror                  1.067616\n",
              "Black Comedy            0.533808\n",
              "Concert/Performance     0.355872\n",
              "Name: genero, dtype: float64"
            ]
          },
          "execution_count": 30,
          "metadata": {},
          "output_type": "execute_result"
        }
      ],
      "source": [
        "acumulativo_genero = dados['genero'].value_counts(normalize=True) * 100\n",
        "acumulativo_genero"
      ]
    },
    {
      "cell_type": "markdown",
      "id": "c0e64ed2",
      "metadata": {
        "id": "c0e64ed2"
      },
      "source": [
        "Estatísticas resumidas agrupadas"
      ]
    },
    {
      "cell_type": "markdown",
      "id": "8ce11db4",
      "metadata": {
        "id": "8ce11db4"
      },
      "source": [
        "16 - Calcule o total da \"bilheteria_bruta\""
      ]
    },
    {
      "cell_type": "code",
      "execution_count": 31,
      "id": "55dbb07e",
      "metadata": {
        "id": "55dbb07e"
      },
      "outputs": [
        {
          "data": {
            "text/plain": [
              "37462335553.0"
            ]
          },
          "execution_count": 31,
          "metadata": {},
          "output_type": "execute_result"
        }
      ],
      "source": [
        "bilheteria_bruta = dados['bilheteria_bruta'].sum()\n",
        "bilheteria_bruta"
      ]
    },
    {
      "cell_type": "markdown",
      "id": "a35facfb",
      "metadata": {
        "id": "a35facfb"
      },
      "source": [
        "17 - Visualize os tipos de generos que tem nesse dataset:"
      ]
    },
    {
      "cell_type": "code",
      "execution_count": 32,
      "id": "1a6152ca",
      "metadata": {
        "id": "1a6152ca"
      },
      "outputs": [
        {
          "data": {
            "text/plain": [
              "array(['Musical', 'Adventure', 'Drama', 'Comedy', nan, 'Action', 'Horror',\n",
              "       'Romantic Comedy', 'Thriller/Suspense', 'Western', 'Black Comedy',\n",
              "       'Documentary', 'Concert/Performance'], dtype=object)"
            ]
          },
          "execution_count": 32,
          "metadata": {},
          "output_type": "execute_result"
        }
      ],
      "source": [
        "dados.genero.unique()"
      ]
    },
    {
      "cell_type": "markdown",
      "id": "47955f3b",
      "metadata": {
        "id": "47955f3b"
      },
      "source": [
        "18 - Calcule o total da bilheteria_bruta pelo genero 'Drama'"
      ]
    },
    {
      "cell_type": "code",
      "execution_count": 33,
      "id": "504703e4",
      "metadata": {
        "id": "504703e4"
      },
      "outputs": [
        {
          "data": {
            "text/plain": [
              "4106972970.0"
            ]
          },
          "execution_count": 33,
          "metadata": {},
          "output_type": "execute_result"
        }
      ],
      "source": [
        "drama = dados[dados['genero']=='Drama']['bilheteria_bruta'].sum()\n",
        "drama"
      ]
    },
    {
      "cell_type": "markdown",
      "id": "2671365c",
      "metadata": {
        "id": "2671365c"
      },
      "source": [
        "19 - Calcule o total da bilheteria_bruta pelo genero Comedia 'Comedy'"
      ]
    },
    {
      "cell_type": "code",
      "execution_count": 34,
      "id": "b06d5fcd",
      "metadata": {
        "id": "b06d5fcd"
      },
      "outputs": [
        {
          "data": {
            "text/plain": [
              "8119619678.0"
            ]
          },
          "execution_count": 34,
          "metadata": {},
          "output_type": "execute_result"
        }
      ],
      "source": [
        "comedia = dados[dados['genero']=='Comedy']['bilheteria_bruta'].sum()\n",
        "comedia"
      ]
    },
    {
      "cell_type": "markdown",
      "id": "f3073292",
      "metadata": {
        "id": "f3073292"
      },
      "source": [
        "20 - Calcule o total da bilheteria_bruta pelo genero Ação 'Action'"
      ]
    },
    {
      "cell_type": "code",
      "execution_count": 35,
      "id": "WHBtrezCG9oa",
      "metadata": {
        "id": "WHBtrezCG9oa"
      },
      "outputs": [
        {
          "data": {
            "text/plain": [
              "4184563282.0"
            ]
          },
          "execution_count": 35,
          "metadata": {},
          "output_type": "execute_result"
        }
      ],
      "source": [
        "acao = dados[dados['genero']=='Action']['bilheteria_bruta'].sum()\n",
        "acao"
      ]
    },
    {
      "cell_type": "code",
      "execution_count": null,
      "id": "fc908d7a",
      "metadata": {
        "id": "fc908d7a"
      },
      "outputs": [],
      "source": []
    },
    {
      "cell_type": "markdown",
      "id": "13fd0acf",
      "metadata": {
        "id": "13fd0acf"
      },
      "source": [
        "21 -  Obtenha proporção do bilheteria_bruta para os três generos acima."
      ]
    },
    {
      "cell_type": "code",
      "execution_count": 36,
      "id": "408343b4",
      "metadata": {
        "id": "408343b4"
      },
      "outputs": [
        {
          "data": {
            "text/plain": [
              "array([0.10962939, 0.21674088, 0.11170054])"
            ]
          },
          "execution_count": 36,
          "metadata": {},
          "output_type": "execute_result"
        }
      ],
      "source": [
        "proporcao = [drama, comedia, acao] / bilheteria_bruta\n",
        "proporcao"
      ]
    },
    {
      "cell_type": "markdown",
      "id": "def6832b",
      "metadata": {
        "id": "def6832b"
      },
      "source": [
        "22 - Importe numpy com o alias np"
      ]
    },
    {
      "cell_type": "code",
      "execution_count": 37,
      "id": "55f563e8",
      "metadata": {
        "id": "55f563e8"
      },
      "outputs": [],
      "source": [
        "import numpy as np"
      ]
    },
    {
      "cell_type": "markdown",
      "id": "70537d5b",
      "metadata": {
        "id": "70537d5b"
      },
      "source": [
        "23 - Para cada genero de filme, agregue a bilheteria_bruta obtendo min, max, média e mediana e imprima o resultado\n",
        "\n",
        "Dica: use numpy para as estatísticas"
      ]
    },
    {
      "cell_type": "code",
      "execution_count": 38,
      "id": "fe3088e8",
      "metadata": {
        "id": "fe3088e8"
      },
      "outputs": [
        {
          "data": {
            "text/html": [
              "<div>\n",
              "<style scoped>\n",
              "    .dataframe tbody tr th:only-of-type {\n",
              "        vertical-align: middle;\n",
              "    }\n",
              "\n",
              "    .dataframe tbody tr th {\n",
              "        vertical-align: top;\n",
              "    }\n",
              "\n",
              "    .dataframe thead th {\n",
              "        text-align: right;\n",
              "    }\n",
              "</style>\n",
              "<table border=\"1\" class=\"dataframe\">\n",
              "  <thead>\n",
              "    <tr style=\"text-align: right;\">\n",
              "      <th></th>\n",
              "      <th>amin</th>\n",
              "      <th>amax</th>\n",
              "      <th>mean</th>\n",
              "      <th>median</th>\n",
              "    </tr>\n",
              "    <tr>\n",
              "      <th>genero</th>\n",
              "      <th></th>\n",
              "      <th></th>\n",
              "      <th></th>\n",
              "      <th></th>\n",
              "    </tr>\n",
              "  </thead>\n",
              "  <tbody>\n",
              "    <tr>\n",
              "      <th>Action</th>\n",
              "      <td>0.0</td>\n",
              "      <td>623279547.0</td>\n",
              "      <td>1.046141e+08</td>\n",
              "      <td>43315244.5</td>\n",
              "    </tr>\n",
              "    <tr>\n",
              "      <th>Adventure</th>\n",
              "      <td>2815.0</td>\n",
              "      <td>936662225.0</td>\n",
              "      <td>1.270471e+08</td>\n",
              "      <td>65000000.0</td>\n",
              "    </tr>\n",
              "    <tr>\n",
              "      <th>Black Comedy</th>\n",
              "      <td>17105219.0</td>\n",
              "      <td>52353636.0</td>\n",
              "      <td>3.251440e+07</td>\n",
              "      <td>28084357.0</td>\n",
              "    </tr>\n",
              "    <tr>\n",
              "      <th>Comedy</th>\n",
              "      <td>45779.0</td>\n",
              "      <td>244082982.0</td>\n",
              "      <td>4.461329e+07</td>\n",
              "      <td>26923500.5</td>\n",
              "    </tr>\n",
              "    <tr>\n",
              "      <th>Concert/Performance</th>\n",
              "      <td>38174685.0</td>\n",
              "      <td>65281781.0</td>\n",
              "      <td>5.172823e+07</td>\n",
              "      <td>51728233.0</td>\n",
              "    </tr>\n",
              "    <tr>\n",
              "      <th>Documentary</th>\n",
              "      <td>20521.0</td>\n",
              "      <td>32011576.0</td>\n",
              "      <td>1.129285e+07</td>\n",
              "      <td>9688331.0</td>\n",
              "    </tr>\n",
              "    <tr>\n",
              "      <th>Drama</th>\n",
              "      <td>0.0</td>\n",
              "      <td>201151353.0</td>\n",
              "      <td>3.602608e+07</td>\n",
              "      <td>19730097.0</td>\n",
              "    </tr>\n",
              "    <tr>\n",
              "      <th>Horror</th>\n",
              "      <td>4877567.0</td>\n",
              "      <td>26570463.0</td>\n",
              "      <td>1.451148e+07</td>\n",
              "      <td>13439137.5</td>\n",
              "    </tr>\n",
              "    <tr>\n",
              "      <th>Musical</th>\n",
              "      <td>5632086.0</td>\n",
              "      <td>218951625.0</td>\n",
              "      <td>7.233026e+07</td>\n",
              "      <td>53041787.5</td>\n",
              "    </tr>\n",
              "    <tr>\n",
              "      <th>Romantic Comedy</th>\n",
              "      <td>468240.0</td>\n",
              "      <td>178406268.0</td>\n",
              "      <td>5.009595e+07</td>\n",
              "      <td>32680633.0</td>\n",
              "    </tr>\n",
              "    <tr>\n",
              "      <th>Thriller/Suspense</th>\n",
              "      <td>2154540.0</td>\n",
              "      <td>293506292.0</td>\n",
              "      <td>5.861694e+07</td>\n",
              "      <td>28153827.0</td>\n",
              "    </tr>\n",
              "    <tr>\n",
              "      <th>Western</th>\n",
              "      <td>8247627.0</td>\n",
              "      <td>89302115.0</td>\n",
              "      <td>5.128735e+07</td>\n",
              "      <td>56932305.0</td>\n",
              "    </tr>\n",
              "  </tbody>\n",
              "</table>\n",
              "</div>"
            ],
            "text/plain": [
              "                           amin         amax          mean      median\n",
              "genero                                                                \n",
              "Action                      0.0  623279547.0  1.046141e+08  43315244.5\n",
              "Adventure                2815.0  936662225.0  1.270471e+08  65000000.0\n",
              "Black Comedy         17105219.0   52353636.0  3.251440e+07  28084357.0\n",
              "Comedy                  45779.0  244082982.0  4.461329e+07  26923500.5\n",
              "Concert/Performance  38174685.0   65281781.0  5.172823e+07  51728233.0\n",
              "Documentary             20521.0   32011576.0  1.129285e+07   9688331.0\n",
              "Drama                       0.0  201151353.0  3.602608e+07  19730097.0\n",
              "Horror                4877567.0   26570463.0  1.451148e+07  13439137.5\n",
              "Musical               5632086.0  218951625.0  7.233026e+07  53041787.5\n",
              "Romantic Comedy        468240.0  178406268.0  5.009595e+07  32680633.0\n",
              "Thriller/Suspense     2154540.0  293506292.0  5.861694e+07  28153827.0\n",
              "Western               8247627.0   89302115.0  5.128735e+07  56932305.0"
            ]
          },
          "execution_count": 38,
          "metadata": {},
          "output_type": "execute_result"
        }
      ],
      "source": [
        "estat_total_bilheteria_bruta = dados.groupby('genero')['bilheteria_bruta'].agg([np.min, np.max, np.mean, np.median])\n",
        "estat_total_bilheteria_bruta"
      ]
    },
    {
      "cell_type": "markdown",
      "id": "3fdc9959",
      "metadata": {
        "id": "3fdc9959"
      },
      "source": [
        "24 - Para cada genero de filme, agregue bilheteria_bruta e bilheteria_ajustada_inflacao: obtenha o minimo, maximo, média e mediana"
      ]
    },
    {
      "cell_type": "code",
      "execution_count": 39,
      "id": "1fb8b150",
      "metadata": {
        "id": "1fb8b150"
      },
      "outputs": [
        {
          "data": {
            "text/html": [
              "<div>\n",
              "<style scoped>\n",
              "    .dataframe tbody tr th:only-of-type {\n",
              "        vertical-align: middle;\n",
              "    }\n",
              "\n",
              "    .dataframe tbody tr th {\n",
              "        vertical-align: top;\n",
              "    }\n",
              "\n",
              "    .dataframe thead tr th {\n",
              "        text-align: left;\n",
              "    }\n",
              "\n",
              "    .dataframe thead tr:last-of-type th {\n",
              "        text-align: right;\n",
              "    }\n",
              "</style>\n",
              "<table border=\"1\" class=\"dataframe\">\n",
              "  <thead>\n",
              "    <tr>\n",
              "      <th></th>\n",
              "      <th colspan=\"4\" halign=\"left\">bilheteria_bruta</th>\n",
              "      <th colspan=\"4\" halign=\"left\">bilheteria_ajustada_inflacao</th>\n",
              "    </tr>\n",
              "    <tr>\n",
              "      <th></th>\n",
              "      <th>amin</th>\n",
              "      <th>amax</th>\n",
              "      <th>mean</th>\n",
              "      <th>median</th>\n",
              "      <th>amin</th>\n",
              "      <th>amax</th>\n",
              "      <th>mean</th>\n",
              "      <th>median</th>\n",
              "    </tr>\n",
              "    <tr>\n",
              "      <th>genero</th>\n",
              "      <th></th>\n",
              "      <th></th>\n",
              "      <th></th>\n",
              "      <th></th>\n",
              "      <th></th>\n",
              "      <th></th>\n",
              "      <th></th>\n",
              "      <th></th>\n",
              "    </tr>\n",
              "  </thead>\n",
              "  <tbody>\n",
              "    <tr>\n",
              "      <th>Action</th>\n",
              "      <td>0.0</td>\n",
              "      <td>623279547.0</td>\n",
              "      <td>1.046141e+08</td>\n",
              "      <td>43315244.5</td>\n",
              "      <td>0.0</td>\n",
              "      <td>6.600812e+08</td>\n",
              "      <td>1.374734e+08</td>\n",
              "      <td>69012064.5</td>\n",
              "    </tr>\n",
              "    <tr>\n",
              "      <th>Adventure</th>\n",
              "      <td>2815.0</td>\n",
              "      <td>936662225.0</td>\n",
              "      <td>1.270471e+08</td>\n",
              "      <td>65000000.0</td>\n",
              "      <td>2984.0</td>\n",
              "      <td>2.188229e+09</td>\n",
              "      <td>1.903974e+08</td>\n",
              "      <td>102254492.0</td>\n",
              "    </tr>\n",
              "    <tr>\n",
              "      <th>Black Comedy</th>\n",
              "      <td>17105219.0</td>\n",
              "      <td>52353636.0</td>\n",
              "      <td>3.251440e+07</td>\n",
              "      <td>28084357.0</td>\n",
              "      <td>28392518.0</td>\n",
              "      <td>7.675819e+07</td>\n",
              "      <td>5.224349e+07</td>\n",
              "      <td>51579764.0</td>\n",
              "    </tr>\n",
              "    <tr>\n",
              "      <th>Comedy</th>\n",
              "      <td>45779.0</td>\n",
              "      <td>244082982.0</td>\n",
              "      <td>4.461329e+07</td>\n",
              "      <td>26923500.5</td>\n",
              "      <td>82277.0</td>\n",
              "      <td>1.362871e+09</td>\n",
              "      <td>8.466773e+07</td>\n",
              "      <td>51195217.0</td>\n",
              "    </tr>\n",
              "    <tr>\n",
              "      <th>Concert/Performance</th>\n",
              "      <td>38174685.0</td>\n",
              "      <td>65281781.0</td>\n",
              "      <td>5.172823e+07</td>\n",
              "      <td>51728233.0</td>\n",
              "      <td>38174685.0</td>\n",
              "      <td>7.664699e+07</td>\n",
              "      <td>5.741084e+07</td>\n",
              "      <td>57410839.0</td>\n",
              "    </tr>\n",
              "    <tr>\n",
              "      <th>Documentary</th>\n",
              "      <td>20521.0</td>\n",
              "      <td>32011576.0</td>\n",
              "      <td>1.129285e+07</td>\n",
              "      <td>9688331.0</td>\n",
              "      <td>23064.0</td>\n",
              "      <td>3.598101e+07</td>\n",
              "      <td>1.271803e+07</td>\n",
              "      <td>12344483.5</td>\n",
              "    </tr>\n",
              "    <tr>\n",
              "      <th>Drama</th>\n",
              "      <td>0.0</td>\n",
              "      <td>201151353.0</td>\n",
              "      <td>3.602608e+07</td>\n",
              "      <td>19730097.0</td>\n",
              "      <td>0.0</td>\n",
              "      <td>1.236036e+09</td>\n",
              "      <td>7.189302e+07</td>\n",
              "      <td>39325794.0</td>\n",
              "    </tr>\n",
              "    <tr>\n",
              "      <th>Horror</th>\n",
              "      <td>4877567.0</td>\n",
              "      <td>26570463.0</td>\n",
              "      <td>1.451148e+07</td>\n",
              "      <td>13439137.5</td>\n",
              "      <td>9907922.0</td>\n",
              "      <td>4.854616e+07</td>\n",
              "      <td>2.341385e+07</td>\n",
              "      <td>18589709.5</td>\n",
              "    </tr>\n",
              "    <tr>\n",
              "      <th>Musical</th>\n",
              "      <td>5632086.0</td>\n",
              "      <td>218951625.0</td>\n",
              "      <td>7.233026e+07</td>\n",
              "      <td>53041787.5</td>\n",
              "      <td>11468231.0</td>\n",
              "      <td>5.228953e+09</td>\n",
              "      <td>6.035979e+08</td>\n",
              "      <td>103167587.5</td>\n",
              "    </tr>\n",
              "    <tr>\n",
              "      <th>Romantic Comedy</th>\n",
              "      <td>468240.0</td>\n",
              "      <td>178406268.0</td>\n",
              "      <td>5.009595e+07</td>\n",
              "      <td>32680633.0</td>\n",
              "      <td>907414.0</td>\n",
              "      <td>3.563898e+08</td>\n",
              "      <td>7.777708e+07</td>\n",
              "      <td>57925202.0</td>\n",
              "    </tr>\n",
              "    <tr>\n",
              "      <th>Thriller/Suspense</th>\n",
              "      <td>2154540.0</td>\n",
              "      <td>293506292.0</td>\n",
              "      <td>5.861694e+07</td>\n",
              "      <td>28153827.0</td>\n",
              "      <td>3957025.0</td>\n",
              "      <td>4.854247e+08</td>\n",
              "      <td>8.965379e+07</td>\n",
              "      <td>51804588.0</td>\n",
              "    </tr>\n",
              "    <tr>\n",
              "      <th>Western</th>\n",
              "      <td>8247627.0</td>\n",
              "      <td>89302115.0</td>\n",
              "      <td>5.128735e+07</td>\n",
              "      <td>56932305.0</td>\n",
              "      <td>15983331.0</td>\n",
              "      <td>1.157817e+08</td>\n",
              "      <td>7.381571e+07</td>\n",
              "      <td>89042541.0</td>\n",
              "    </tr>\n",
              "  </tbody>\n",
              "</table>\n",
              "</div>"
            ],
            "text/plain": [
              "                    bilheteria_bruta                                         \\\n",
              "                                amin         amax          mean      median   \n",
              "genero                                                                        \n",
              "Action                           0.0  623279547.0  1.046141e+08  43315244.5   \n",
              "Adventure                     2815.0  936662225.0  1.270471e+08  65000000.0   \n",
              "Black Comedy              17105219.0   52353636.0  3.251440e+07  28084357.0   \n",
              "Comedy                       45779.0  244082982.0  4.461329e+07  26923500.5   \n",
              "Concert/Performance       38174685.0   65281781.0  5.172823e+07  51728233.0   \n",
              "Documentary                  20521.0   32011576.0  1.129285e+07   9688331.0   \n",
              "Drama                            0.0  201151353.0  3.602608e+07  19730097.0   \n",
              "Horror                     4877567.0   26570463.0  1.451148e+07  13439137.5   \n",
              "Musical                    5632086.0  218951625.0  7.233026e+07  53041787.5   \n",
              "Romantic Comedy             468240.0  178406268.0  5.009595e+07  32680633.0   \n",
              "Thriller/Suspense          2154540.0  293506292.0  5.861694e+07  28153827.0   \n",
              "Western                    8247627.0   89302115.0  5.128735e+07  56932305.0   \n",
              "\n",
              "                    bilheteria_ajustada_inflacao                              \\\n",
              "                                            amin          amax          mean   \n",
              "genero                                                                         \n",
              "Action                                       0.0  6.600812e+08  1.374734e+08   \n",
              "Adventure                                 2984.0  2.188229e+09  1.903974e+08   \n",
              "Black Comedy                          28392518.0  7.675819e+07  5.224349e+07   \n",
              "Comedy                                   82277.0  1.362871e+09  8.466773e+07   \n",
              "Concert/Performance                   38174685.0  7.664699e+07  5.741084e+07   \n",
              "Documentary                              23064.0  3.598101e+07  1.271803e+07   \n",
              "Drama                                        0.0  1.236036e+09  7.189302e+07   \n",
              "Horror                                 9907922.0  4.854616e+07  2.341385e+07   \n",
              "Musical                               11468231.0  5.228953e+09  6.035979e+08   \n",
              "Romantic Comedy                         907414.0  3.563898e+08  7.777708e+07   \n",
              "Thriller/Suspense                      3957025.0  4.854247e+08  8.965379e+07   \n",
              "Western                               15983331.0  1.157817e+08  7.381571e+07   \n",
              "\n",
              "                                  \n",
              "                          median  \n",
              "genero                            \n",
              "Action                69012064.5  \n",
              "Adventure            102254492.0  \n",
              "Black Comedy          51579764.0  \n",
              "Comedy                51195217.0  \n",
              "Concert/Performance   57410839.0  \n",
              "Documentary           12344483.5  \n",
              "Drama                 39325794.0  \n",
              "Horror                18589709.5  \n",
              "Musical              103167587.5  \n",
              "Romantic Comedy       57925202.0  \n",
              "Thriller/Suspense     51804588.0  \n",
              "Western               89042541.0  "
            ]
          },
          "execution_count": 39,
          "metadata": {},
          "output_type": "execute_result"
        }
      ],
      "source": [
        "estat_total_bruto = dados.groupby('genero')[['bilheteria_bruta', 'bilheteria_ajustada_inflacao']].agg([np.min, np.max, np.mean, np.median])\n",
        "estat_total_bruto"
      ]
    },
    {
      "cell_type": "markdown",
      "id": "fbebf915",
      "metadata": {
        "id": "fbebf915"
      },
      "source": [
        "Está na hora de fazermos um pouco de gráficos. Não existe análise de dados sem visualização!!"
      ]
    },
    {
      "cell_type": "code",
      "execution_count": null,
      "id": "e5c18af4",
      "metadata": {
        "id": "e5c18af4"
      },
      "outputs": [],
      "source": []
    },
    {
      "cell_type": "markdown",
      "id": "cc1f85d1",
      "metadata": {
        "id": "cc1f85d1"
      },
      "source": []
    },
    {
      "cell_type": "code",
      "execution_count": 40,
      "id": "31d99f5a",
      "metadata": {
        "id": "31d99f5a"
      },
      "outputs": [],
      "source": [
        "import seaborn as sns\n",
        "sns.set()"
      ]
    },
    {
      "cell_type": "markdown",
      "id": "0bdd6de2",
      "metadata": {
        "id": "0bdd6de2"
      },
      "source": [
        "25 - Some a bilheteria_bruta por genero"
      ]
    },
    {
      "cell_type": "code",
      "execution_count": 41,
      "id": "49d0c034",
      "metadata": {
        "id": "49d0c034"
      },
      "outputs": [],
      "source": [
        "soma_genero =dados.groupby('genero')['bilheteria_bruta'].sum()\n",
        "\n"
      ]
    },
    {
      "cell_type": "markdown",
      "id": "ce14137d",
      "metadata": {
        "id": "ce14137d"
      },
      "source": [
        "26 - Agora sim faça um gráfico de barras com o resultado anterior!"
      ]
    },
    {
      "cell_type": "code",
      "execution_count": 42,
      "id": "d07655f7",
      "metadata": {
        "id": "d07655f7"
      },
      "outputs": [
        {
          "data": {
            "text/plain": [
              "Text(0.5, 1.0, 'Bilheteria Bruta por genero')"
            ]
          },
          "execution_count": 42,
          "metadata": {},
          "output_type": "execute_result"
        },
        {
          "data": {
            "image/png": "[encoded data removed]",
            "text/plain": [
              "<Figure size 640x480 with 1 Axes>"
            ]
          },
          "metadata": {},
          "output_type": "display_data"
        }
      ],
      "source": [
        "\n",
        "\n",
        "soma_genero.plot.bar().set_title('Bilheteria Bruta por genero')"
      ]
    },
    {
      "cell_type": "markdown",
      "id": "f4db205c",
      "metadata": {
        "id": "f4db205c"
      },
      "source": [
        "27 - Importe o seaborn com o apelido sns"
      ]
    },
    {
      "cell_type": "code",
      "execution_count": null,
      "id": "c9bf4215",
      "metadata": {
        "id": "c9bf4215"
      },
      "outputs": [],
      "source": [
        "import seaborn as sns\n",
        "sns.set()"
      ]
    },
    {
      "cell_type": "markdown",
      "id": "2bda7f9f",
      "metadata": {
        "id": "2bda7f9f"
      },
      "source": [
        "28 -Faça um boxplot comparando a bilheteria_ajustada_inflacao dos filmes de ação e comédia\n"
      ]
    },
    {
      "cell_type": "code",
      "execution_count": 43,
      "id": "05cb1c96",
      "metadata": {
        "id": "05cb1c96"
      },
      "outputs": [
        {
          "data": {
            "text/html": [
              "<div>\n",
              "<style scoped>\n",
              "    .dataframe tbody tr th:only-of-type {\n",
              "        vertical-align: middle;\n",
              "    }\n",
              "\n",
              "    .dataframe tbody tr th {\n",
              "        vertical-align: top;\n",
              "    }\n",
              "\n",
              "    .dataframe thead th {\n",
              "        text-align: right;\n",
              "    }\n",
              "</style>\n",
              "<table border=\"1\" class=\"dataframe\">\n",
              "  <thead>\n",
              "    <tr style=\"text-align: right;\">\n",
              "      <th></th>\n",
              "      <th>tit_do_filme</th>\n",
              "      <th>dt_lancamento</th>\n",
              "      <th>genero</th>\n",
              "      <th>classificacao_mpaa</th>\n",
              "      <th>bilheteria_bruta</th>\n",
              "      <th>bilheteria_ajustada_inflacao</th>\n",
              "      <th>bilheteria_milhonaria</th>\n",
              "    </tr>\n",
              "  </thead>\n",
              "  <tbody>\n",
              "    <tr>\n",
              "      <th>8</th>\n",
              "      <td>101 Dalmatians</td>\n",
              "      <td>1961-01-25</td>\n",
              "      <td>Comedy</td>\n",
              "      <td>G</td>\n",
              "      <td>153000000.0</td>\n",
              "      <td>1.362871e+09</td>\n",
              "      <td>1.475208e+10</td>\n",
              "    </tr>\n",
              "    <tr>\n",
              "      <th>9</th>\n",
              "      <td>The Absent Minded Professor</td>\n",
              "      <td>1961-03-16</td>\n",
              "      <td>Comedy</td>\n",
              "      <td>NaN</td>\n",
              "      <td>25381407.0</td>\n",
              "      <td>3.100946e+08</td>\n",
              "      <td>1.506218e+10</td>\n",
              "    </tr>\n",
              "    <tr>\n",
              "      <th>11</th>\n",
              "      <td>Bon Voyage!</td>\n",
              "      <td>1962-05-17</td>\n",
              "      <td>Comedy</td>\n",
              "      <td>Not Rated</td>\n",
              "      <td>9230769.0</td>\n",
              "      <td>1.095816e+08</td>\n",
              "      <td>1.529660e+10</td>\n",
              "    </tr>\n",
              "    <tr>\n",
              "      <th>14</th>\n",
              "      <td>Blackbeard's Ghost</td>\n",
              "      <td>1968-02-08</td>\n",
              "      <td>Comedy</td>\n",
              "      <td>NaN</td>\n",
              "      <td>21540050.0</td>\n",
              "      <td>1.386127e+08</td>\n",
              "      <td>1.637870e+10</td>\n",
              "    </tr>\n",
              "    <tr>\n",
              "      <th>16</th>\n",
              "      <td>The Boatniks</td>\n",
              "      <td>1970-07-01</td>\n",
              "      <td>Comedy</td>\n",
              "      <td>NaN</td>\n",
              "      <td>18607492.0</td>\n",
              "      <td>1.012007e+08</td>\n",
              "      <td>1.673506e+10</td>\n",
              "    </tr>\n",
              "    <tr>\n",
              "      <th>...</th>\n",
              "      <td>...</td>\n",
              "      <td>...</td>\n",
              "      <td>...</td>\n",
              "      <td>...</td>\n",
              "      <td>...</td>\n",
              "      <td>...</td>\n",
              "      <td>...</td>\n",
              "    </tr>\n",
              "    <tr>\n",
              "      <th>544</th>\n",
              "      <td>Captain America: The Winter Soldier</td>\n",
              "      <td>2014-04-04</td>\n",
              "      <td>Action</td>\n",
              "      <td>PG-13</td>\n",
              "      <td>259746958.0</td>\n",
              "      <td>2.680131e+08</td>\n",
              "      <td>6.219943e+10</td>\n",
              "    </tr>\n",
              "    <tr>\n",
              "      <th>551</th>\n",
              "      <td>Alexander and the Terrible, Horrible,…</td>\n",
              "      <td>2014-10-10</td>\n",
              "      <td>Comedy</td>\n",
              "      <td>PG</td>\n",
              "      <td>66954149.0</td>\n",
              "      <td>6.905555e+07</td>\n",
              "      <td>6.303430e+10</td>\n",
              "    </tr>\n",
              "    <tr>\n",
              "      <th>558</th>\n",
              "      <td>Avengers: Age of Ultron</td>\n",
              "      <td>2015-05-01</td>\n",
              "      <td>Action</td>\n",
              "      <td>PG-13</td>\n",
              "      <td>459005868.0</td>\n",
              "      <td>4.590059e+08</td>\n",
              "      <td>6.412794e+10</td>\n",
              "    </tr>\n",
              "    <tr>\n",
              "      <th>561</th>\n",
              "      <td>Ant-Man</td>\n",
              "      <td>2015-07-17</td>\n",
              "      <td>Action</td>\n",
              "      <td>PG-13</td>\n",
              "      <td>180202163.0</td>\n",
              "      <td>1.802022e+08</td>\n",
              "      <td>6.475804e+10</td>\n",
              "    </tr>\n",
              "    <tr>\n",
              "      <th>569</th>\n",
              "      <td>Captain America: Civil War</td>\n",
              "      <td>2016-05-06</td>\n",
              "      <td>Action</td>\n",
              "      <td>PG-13</td>\n",
              "      <td>408084349.0</td>\n",
              "      <td>4.080843e+08</td>\n",
              "      <td>6.703893e+10</td>\n",
              "    </tr>\n",
              "  </tbody>\n",
              "</table>\n",
              "<p>222 rows × 7 columns</p>\n",
              "</div>"
            ],
            "text/plain": [
              "                               tit_do_filme dt_lancamento  genero  \\\n",
              "8                            101 Dalmatians    1961-01-25  Comedy   \n",
              "9               The Absent Minded Professor    1961-03-16  Comedy   \n",
              "11                              Bon Voyage!    1962-05-17  Comedy   \n",
              "14                       Blackbeard's Ghost    1968-02-08  Comedy   \n",
              "16                             The Boatniks    1970-07-01  Comedy   \n",
              "..                                      ...           ...     ...   \n",
              "544     Captain America: The Winter Soldier    2014-04-04  Action   \n",
              "551  Alexander and the Terrible, Horrible,…    2014-10-10  Comedy   \n",
              "558                 Avengers: Age of Ultron    2015-05-01  Action   \n",
              "561                                 Ant-Man    2015-07-17  Action   \n",
              "569              Captain America: Civil War    2016-05-06  Action   \n",
              "\n",
              "    classificacao_mpaa  bilheteria_bruta  bilheteria_ajustada_inflacao  \\\n",
              "8                    G       153000000.0                  1.362871e+09   \n",
              "9                  NaN        25381407.0                  3.100946e+08   \n",
              "11           Not Rated         9230769.0                  1.095816e+08   \n",
              "14                 NaN        21540050.0                  1.386127e+08   \n",
              "16                 NaN        18607492.0                  1.012007e+08   \n",
              "..                 ...               ...                           ...   \n",
              "544              PG-13       259746958.0                  2.680131e+08   \n",
              "551                 PG        66954149.0                  6.905555e+07   \n",
              "558              PG-13       459005868.0                  4.590059e+08   \n",
              "561              PG-13       180202163.0                  1.802022e+08   \n",
              "569              PG-13       408084349.0                  4.080843e+08   \n",
              "\n",
              "     bilheteria_milhonaria  \n",
              "8             1.475208e+10  \n",
              "9             1.506218e+10  \n",
              "11            1.529660e+10  \n",
              "14            1.637870e+10  \n",
              "16            1.673506e+10  \n",
              "..                     ...  \n",
              "544           6.219943e+10  \n",
              "551           6.303430e+10  \n",
              "558           6.412794e+10  \n",
              "561           6.475804e+10  \n",
              "569           6.703893e+10  \n",
              "\n",
              "[222 rows x 7 columns]"
            ]
          },
          "execution_count": 43,
          "metadata": {},
          "output_type": "execute_result"
        }
      ],
      "source": [
        "acao_comedia = dados[dados.genero.isin(['Action','Comedy'])]\n",
        "acao_comedia"
      ]
    },
    {
      "cell_type": "code",
      "execution_count": 44,
      "id": "61e1f626",
      "metadata": {
        "id": "61e1f626"
      },
      "outputs": [
        {
          "data": {
            "image/png": "[encoded data removed]",
            "text/plain": [
              "<Figure size 640x480 with 1 Axes>"
            ]
          },
          "metadata": {},
          "output_type": "display_data"
        }
      ],
      "source": [
        "sns.boxplot(x=\"genero\",\n",
        "                y=\"bilheteria_ajustada_inflacao\",\n",
        "                data=acao_comedia);"
      ]
    },
    {
      "cell_type": "code",
      "execution_count": null,
      "id": "c420ae3d",
      "metadata": {
        "id": "c420ae3d"
      },
      "outputs": [],
      "source": []
    }
  ],
  "metadata": {
    "colab": {
      "provenance": []
    },
    "hide_input": false,
    "kernelspec": {
      "display_name": "Python 3",
      "language": "python",
      "name": "python3"
    },
    "language_info": {
      "codemirror_mode": {
        "name": "ipython",
        "version": 3
      },
      "file_extension": ".py",
      "mimetype": "text/x-python",
      "name": "python",
      "nbconvert_exporter": "python",
      "pygments_lexer": "ipython3",
      "version": "3.10.9"
    }
  },
  "nbformat": 4,
  "nbformat_minor": 5
}
